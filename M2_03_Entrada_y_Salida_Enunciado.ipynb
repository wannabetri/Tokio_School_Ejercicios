{
 "cells": [
  {
   "cell_type": "markdown",
   "metadata": {},
   "source": [
    "# Ejercicios Modulo 2. Entrada y salida de datos\n",
    "\n",
    "Consideraciones a tener en cuenta: \n",
    "\n",
    "* Guardar este documento con el siguiente formato para su entrega: __M2_03_nombre_apellido1_apellido2__\n",
    "* Realizar los ejercicios con las herramientas vistas en las sesiones. Aún no hemos llegado a condicionales ni bucles\n",
    "* Comentar el código\n",
    "* Utilizar nombres de variables apropiados, si vais a guardar una nota, llamar a esa variable nota, no n o x"
   ]
  },
  {
   "cell_type": "markdown",
   "metadata": {},
   "source": [
    "## Ejercicios de entrada y salida"
   ]
  },
  {
   "cell_type": "markdown",
   "metadata": {},
   "source": [
    "**1) Utiliza el método input() para realizar las siguientes tareas:**\n",
    "\n",
    "* Pide un número por teclado, muestra el resultado y su tipo (para conocer en que tipo de dato captura la información input())\n",
    "* Pide un número por teclado y asegurate de que capturemos la información en formato int\n",
    "* Pide un número por teclado y asegurate de que capturemos la información en formato float\n",
    "\n",
    "__Comprobar con type que los datos son del tipo correcto__"
   ]
  },
  {
   "cell_type": "code",
   "execution_count": 8,
   "metadata": {},
   "outputs": [
    {
     "name": "stdout",
     "output_type": "stream",
     "text": [
      "introduce un numero: 1\n",
      "<class 'str'>\n",
      "introduce un numero: 1\n",
      "<class 'int'>\n",
      "introduce un numero: 1.25\n",
      "<class 'float'>\n"
     ]
    }
   ],
   "source": [
    "numero_str = input(\"introduce un numero: \")\n",
    "\n",
    "print(type(numero_str))#comprobamos resultado\n",
    "\n",
    "numero_int = int(input(\"introduce un numero: \"))\n",
    "\n",
    "print(type(numero_int))#comprobamos resultado\n",
    "\n",
    "numero_float = float(input(\"introduce un numero: \"))\n",
    "\n",
    "print(type(numero_float))#comprobamos resultado"
   ]
  },
  {
   "cell_type": "markdown",
   "metadata": {},
   "source": [
    "**2) Vamos a formatear números:**\n",
    "\n",
    "* Pide un numero entero por teclado\n",
    "* Muéstralo con el formato de 5 dígitos rellenos con 0s por delante\n",
    "* Pide un número flotante por teclado\n",
    "* Muéstralo con 5 dígitos para la parte entera y 3 dígitos para la parte decimal"
   ]
  },
  {
   "cell_type": "code",
   "execution_count": 9,
   "metadata": {},
   "outputs": [
    {
     "name": "stdout",
     "output_type": "stream",
     "text": [
      "introduce un numero: 1\n",
      "00001\n",
      "introduce un numero: 1.25\n",
      "00001.250\n"
     ]
    }
   ],
   "source": [
    "numero_entero = int(input(\"introduce un numero: \"))\n",
    "\n",
    "print(\"{:05d}\".format(numero_entero))#comprobamos resultado\n",
    "\n",
    "numero_flotante = float(input(\"introduce un numero: \"))\n",
    "\n",
    "print(\"{:09.3f}\".format(numero_flotante))#comprobamos resultado"
   ]
  },
  {
   "cell_type": "markdown",
   "metadata": {},
   "source": [
    "**3) Vamos a ponernos creativos. ¿Cuántas formas tienes de mostrar esta información?**<bR>\n",
    "<code>La altura es de 1,80 metros y el peso es de 80,135 KG</code>\n",
    "    \n",
    "Siendo la altura y el peso dos variables que se recojan con 2 inputs\n",
    "    \n",
    "__Pista: format() se puede usar de varias formas__"
   ]
  },
  {
   "cell_type": "code",
   "execution_count": 7,
   "metadata": {},
   "outputs": [
    {
     "name": "stdout",
     "output_type": "stream",
     "text": [
      "Dime tu altura en metros: 1.8\n",
      "Dime tu peso en kilos: 80.135\n",
      "Mides '1.8' metros y pesas '80.135' kg\n",
      "Mides '1.8' metros y pesas '80.135' kg\n",
      "Mides '1.8' metros y pesas '80.135' kg\n",
      "1.8,80.135,1.8\n"
     ]
    }
   ],
   "source": [
    "altura = float(input(\"Dime tu altura en metros: \")) #pedimos al usuario la altura\n",
    "peso = float(input(\"Dime tu peso en kilos: \")) #pedimos al usuario el peso\n",
    "solucion_uno = \"Mides '{}' metros y pesas '{}' kg\".format(altura,peso) #utilizando el metodo .format\n",
    "print(solucion_uno) #mostramos la solucion_uno\n",
    "print(\"Mides '{0}' metros y pesas '{1}' kg\".format(altura,peso)) #posición de los valores utilizando índices\n",
    "print(\"Mides '{h}' metros y pesas '{p}' kg\".format(h=altura,p=peso)) #identificador con una clave y luego pasarlas en el format\n",
    "print(\"{h},{p},{h}\".format(h=altura,p=peso))"
   ]
  }
 ],
 "metadata": {
  "anaconda-cloud": {},
  "kernelspec": {
   "display_name": "Python 3 (ipykernel)",
   "language": "python",
   "name": "python3"
  },
  "language_info": {
   "codemirror_mode": {
    "name": "ipython",
    "version": 3
   },
   "file_extension": ".py",
   "mimetype": "text/x-python",
   "name": "python",
   "nbconvert_exporter": "python",
   "pygments_lexer": "ipython3",
   "version": "3.9.13"
  }
 },
 "nbformat": 4,
 "nbformat_minor": 1
}
