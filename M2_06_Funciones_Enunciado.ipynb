{
 "cells": [
  {
   "cell_type": "markdown",
   "metadata": {},
   "source": [
    "# Ejercicios Modulo 2. Funciones\n",
    "\n",
    "Consideraciones a tener en cuenta: \n",
    "\n",
    "* Guardar este documento con el siguiente formato para su entrega: __M2_06_nombre_apellido1_apellido2__\n",
    "* Realizar los ejercicios con las herramientas vistas en las sesiones. \n",
    "* Comentar el código\n",
    "* Utilizar nombres de variables apropiados, si vais a guardar una nota, llamar a esa variable nota, no n o x"
   ]
  },
  {
   "cell_type": "markdown",
   "metadata": {},
   "source": [
    "**1) Realiza una función que devuelva el área de un rectángulo a partir de su base y su altura. La función se llamará area_rectangulo(). La base y la altura se pedirán al usuario por teclado.**\n",
    "\n",
    "*Nota: El área de un rectángulo se obtiene al multiplicar la base por la altura.*"
   ]
  },
  {
   "cell_type": "code",
   "execution_count": 7,
   "metadata": {},
   "outputs": [
    {
     "name": "stdout",
     "output_type": "stream",
     "text": [
      "que base es la del rectangulo?5\n",
      "que altura es la del rectangulo?2\n",
      "None\n"
     ]
    }
   ],
   "source": [
    "#pedimos al usuario los datos que vamos a necesitar\n",
    "base = int(input('que base es la del rectangulo?')) \n",
    "altura = int(input('que altura es la del rectangulo?'))\n",
    "\n",
    "#desarrollamos la funcion\n",
    "def area_rectangulo(altura,base):\n",
    "    area = altura * base\n",
    "    return area\n",
    "\n",
    "#mostramos el area por pantalla\n",
    "print (area_rectangulo(altura,base))"
   ]
  },
  {
   "cell_type": "markdown",
   "metadata": {},
   "source": [
    "**2) Realiza una función que devuelva el área de un círculo a partir de un radio. La función se llamará area_circulo(). El radio se pedirá al usuario por teclado:**\n",
    "\n",
    "Nota: El área de un círculo se obtiene al elevar el radio a dos y multiplicando el resultado por el número pi. Puedes utilizar el valor 3.14159 como pi o importarlo del módulo math:\n",
    "```python\n",
    "import math\n",
    "print(math.pi)\n",
    "> 3.1415...\n",
    "```"
   ]
  },
  {
   "cell_type": "code",
   "execution_count": 11,
   "metadata": {},
   "outputs": [
    {
     "name": "stdout",
     "output_type": "stream",
     "text": [
      "que radio es el del circulo?5\n",
      "78.53981633974483\n"
     ]
    }
   ],
   "source": [
    "#importamos la biblioteca matematicas\n",
    "import math\n",
    "#print(math.pi)\n",
    "\n",
    "#pedimos al usuario los datos que vamos a necesitar\n",
    "radio = int(input('que radio es el del circulo?')) \n",
    "\n",
    "#desarrollamos la funcion\n",
    "def area_circulo(radio):\n",
    "    area = (radio*radio)*math.pi\n",
    "    return area\n",
    "\n",
    "#mostramos el area por pantalla\n",
    "print (area_circulo(radio))"
   ]
  },
  {
   "cell_type": "markdown",
   "metadata": {},
   "source": [
    "**3) Realiza una función llamada lee_numero() que solicite y lea por teclado un numero. Utilizar esta función para pedirle al usuario 3 números. Luego pasarle estos 3 números a una función que se llame mayor() que tenga 3 parámetros y que devuelva el número mayor de los 3:**"
   ]
  },
  {
   "cell_type": "code",
   "execution_count": 18,
   "metadata": {},
   "outputs": [
    {
     "name": "stdout",
     "output_type": "stream",
     "text": [
      "introduce un numero 5\n",
      "venga no te quedes con las ganas otro mas 9\n",
      "venga el ultimo 8\n",
      "[5, 9, 8]\n"
     ]
    }
   ],
   "source": [
    "num_1 = int(input('introduce un numero '))\n",
    "num_2 = int(input('venga no te quedes con las ganas otro mas '))\n",
    "num_3 = int(input('venga el ultimo '))\n",
    "\n",
    "def lee_numero(num_1,num_2,num_3):\n",
    "    def mayor num_1,num_2,num_3\n",
    "        lista = [num_1,num_2,num_3]\n",
    "        return lista\n",
    "print (lee_numero(num_1,num_2,num_3))\n",
    "    \n",
    "\n",
    "    "
   ]
  },
  {
   "cell_type": "markdown",
   "metadata": {},
   "source": [
    "**4) Realizar una función llamada imc(). Esta función nos proporcionará el estado nutricional de una persona. Esto es; la clasificación de su índice de masa corporal (IMC), según la tabla proporcionada. La función recibirá el peso (en kilos) y la talla de una persona (en metros con dos decimales), datos a partir de los cuales se puede calcular el IMC cómo:**\n",
    "\n",
    "IMC = peso / (altura * altura)\n",
    "\n",
    "Clasificación: IMC (Kg/m^2)\n",
    "* Bajo peso:  < 18.50\n",
    "* Normal:      [18.50, 25.00)\n",
    "* Sobrepeso: >= 25.00\n",
    "* Obesidad: >= 30.00"
   ]
  },
  {
   "cell_type": "code",
   "execution_count": 7,
   "metadata": {},
   "outputs": [
    {
     "name": "stdout",
     "output_type": "stream",
     "text": [
      "buenos dias introduzca su peso 65\n",
      "buenos dias introduzca su altura 1.65\n",
      "Su IMC es: Peso normal\n"
     ]
    }
   ],
   "source": [
    "#definimos la funcion junto a los posibles resultados\n",
    "def imc(peso,altura):\n",
    "    IMC = peso/(altura**2)\n",
    "    if IMC < 18.50:\n",
    "        return \"Bajo peso\"\n",
    "    elif 18.5 <= IMC < 25:\n",
    "        return \"Peso normal\"\n",
    "    elif 25 <= IMC < 30:\n",
    "        return \"Sobrepeso\"\n",
    "    else:\n",
    "        return \"Obesidad\"\n",
    "\n",
    "#Ejemplo de uso de la funcion\n",
    "peso = float(input('buenos dias introduzca su peso '))\n",
    "altura = float(input('buenos dias introduzca su altura '))\n",
    "resultado = imc(peso, altura)\n",
    "print (\"Su IMC es:\", resultado)"
   ]
  },
  {
   "cell_type": "markdown",
   "metadata": {},
   "source": [
    "**5) ¿Recuerdas este programa de la unidad de control de flujo?**\n",
    "\n",
    "Realiza un programa que realice las siguientes tareas:\n",
    "\n",
    "* Paso 1) solicite al usuario una contraseña y la guarde en una variable\n",
    "* Paso 2) pida al usuario introducir la contraseña para loguearse\n",
    "    * si la contraseña es correcta mostramos \"Login correcto\"\n",
    "    * si la contraseña no es correcta se le tendrá que mostrar un mensaje de \"Login fallido. Intento 1\", donde 1 será una variable contador que irá incrementandose hasta llegar a 5. En ese punto reiniciamos el programa y volveremos al Paso 1\n",
    "\n",
    "__Reestructura el ejercicio dividiéndolo al máximo en funciones.__"
   ]
  },
  {
   "cell_type": "code",
   "execution_count": 11,
   "metadata": {},
   "outputs": [
    {
     "name": "stdout",
     "output_type": "stream",
     "text": [
      "Introduzca su nueva contraseña: 1234\n",
      "Su contraseña ha sido almacenada.\n",
      "Introduzca su contraseña: 1234\n",
      "Login correcto\n"
     ]
    }
   ],
   "source": [
    "#funcion para solicitar la contraseña\n",
    "def solicitar_contraseña():\n",
    "    contraseña = input('Introduzca su nueva contraseña: ')\n",
    "    print('Su contraseña ha sido almacenada.')\n",
    "    return contraseña\n",
    "#funcion para ver que la contraseña sea correcta con un bucle while \n",
    "def login(contraseña):\n",
    "    intentos = 0\n",
    "    while intentos < 5:\n",
    "        clave = input('Introduzca su contraseña: ')\n",
    "        if clave == contraseña:\n",
    "            print('Login correcto')\n",
    "            break\n",
    "        else:\n",
    "            intentos += 1\n",
    "            if intentos < 5:\n",
    "                print('Login fallido. Intento', intentos)\n",
    "            else:\n",
    "                print('Demasiados intentos. Reiniciando...')\n",
    "                return False\n",
    "    return True\n",
    "\n",
    "contraseña = solicitar_contraseña()\n",
    "while True:\n",
    "    if login(contraseña):\n",
    "        break\n",
    "    else:\n",
    "        contraseña = solicitar_contraseña()"
   ]
  },
  {
   "cell_type": "code",
   "execution_count": null,
   "metadata": {},
   "outputs": [],
   "source": []
  }
 ],
 "metadata": {
  "anaconda-cloud": {},
  "kernelspec": {
   "display_name": "Python 3 (ipykernel)",
   "language": "python",
   "name": "python3"
  },
  "language_info": {
   "codemirror_mode": {
    "name": "ipython",
    "version": 3
   },
   "file_extension": ".py",
   "mimetype": "text/x-python",
   "name": "python",
   "nbconvert_exporter": "python",
   "pygments_lexer": "ipython3",
   "version": "3.9.13"
  }
 },
 "nbformat": 4,
 "nbformat_minor": 1
}
