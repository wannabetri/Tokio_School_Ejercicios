{
 "cells": [
  {
   "cell_type": "markdown",
   "metadata": {},
   "source": [
    "# Ejercicios Modulo 2. Tipos avanzados\n",
    "\n",
    "Consideraciones a tener en cuenta: \n",
    "\n",
    "* Guardar este documento con el siguiente formato para su entrega: __M2_04_nombre_apellido1_apellido2__\n",
    "* Realizar los ejercicios con las herramientas vistas en las sesiones. Aún no hemos llegado a condicionales ni bucles\n",
    "* Comentar el código\n",
    "* Utilizar nombres de variables apropiados, si vais a guardar una nota, llamar a esa variable nota, no n o x"
   ]
  },
  {
   "cell_type": "markdown",
   "metadata": {},
   "source": [
    "## Ejercicios de tipos avanzados"
   ]
  },
  {
   "cell_type": "markdown",
   "metadata": {},
   "source": [
    "**1) Trabajemos con listas y tuplas**\n",
    "* Crea una lista y una tupla que contenga strings (al menos 3 elementos). Tematica libre, sobre lo que quieras, vehiculos, comida, música, etc.\n",
    "* Muestra la lista y la tupla\n",
    "* Muestra el 2º elemento de la lista y el penúltimo de la tupla\n",
    "* Modifica (si se puede) algún elemento de la lista y de la tupla. Y mostrar el resultado\n",
    "* Muestra el tamaño de la lista y de la tupla\n",
    "* Realiza una búsqueda de un elemento dentro de la lista y de la tupla. Mostrar si devuelve True o False\n",
    "* Añade (si se puede) algún elemento a la lista y a la tupla. Mostrar de nuevo la lista y la tupla para verificar si se ha realizado correctamente la acción.\n",
    "* Borra o elimina (si se puede) el contenido de la lista y de la tupla. Mosstrar de nuevo la lista y la tupla para verificar si se ha realizado correctamente la acción\n",
    "\n"
   ]
  },
  {
   "cell_type": "code",
   "execution_count": 1,
   "metadata": {},
   "outputs": [
    {
     "name": "stdout",
     "output_type": "stream",
     "text": [
      "['ferrari', 'maserati', 'lamborghini']\n",
      "('mercedes', 'bmw', 'audi')\n",
      "<class 'list'>\n",
      "<class 'tuple'>\n"
     ]
    }
   ],
   "source": [
    "coches_it = ['ferrari','maserati','lamborghini'] #creo la lista de coches italianos\n",
    "coches_de = ('mercedes','bmw','audi') #creo la tupla de coches alemanes\n",
    "print(coches_it) #muestro la lista en pantalla\n",
    "print(coches_de) #muestro la tupla en pantalla\n",
    "print(type(coches_it)) #compruebo el tipo\n",
    "print(type(coches_de)) #compruebo el tipo"
   ]
  },
  {
   "cell_type": "markdown",
   "metadata": {},
   "source": [
    "**2) Trabajemos con sets y diccionarios**\n",
    "* Crea una set y un diccionario que contengan strings (al menos 3 elementos en el caso del set y 3 conjuntos de clave:valor en el caso del diccionario). Tematica libre, sobre lo que quieras, vehiculos, comida, música, etc.\n",
    "* Muestra el set y el diccionario\n",
    "* Muestra (si se puede) el 2º elemento del set y el valor del primer clave-valor del diccionario\n",
    "* Modifica (si se puede) algún elemento del set o del diccionario. Y mostrar el resultado\n",
    "* Muestra el tamaño del set y del diccionario\n",
    "* Realiza una búsqueda de un elemento dentro del set y dentro del diccionario. Mostrar si devuelve True o False\n",
    "* Añade (si se puede) algún elemento al set y algun clave-valor al diccionario. Mostrar de nuevo el set y el diccionario para verificar si se ha realizado correctamente la acción.\n",
    "* Borra o elimina (si se puede) el contenido del set y del diccionario. Mosstrar de nuevo el set y el diccionario para verificar si se ha realizado correctamente la acción\n",
    "\n"
   ]
  },
  {
   "cell_type": "code",
   "execution_count": 2,
   "metadata": {},
   "outputs": [
    {
     "name": "stdout",
     "output_type": "stream",
     "text": [
      "{'el lienzo', '69', 12, 'casa paco'}\n",
      "{'id': [1, 2, 3], 'nombre': ['Cachopo', 'Fabes', 'Sidra'], 'precio': [20, 25, 15]}\n",
      "<class 'set'>\n",
      "<class 'dict'>\n"
     ]
    }
   ],
   "source": [
    "restaurante = {12,\"el lienzo\",'casa paco',\"69\"} #creo el set\n",
    "\n",
    "comida = { 'id':[1,2,3], \n",
    "             'nombre':['Cachopo', 'Fabes', 'Sidra'], \n",
    "             'precio': [20, 25, 15] \n",
    "            } #creo el diccionario\n",
    "print(restaurante) #muestro el set en pantalla\n",
    "print(comida) #muestro el dicionario en pantalla\n",
    "print(type(restaurante)) #compruebo el tipo\n",
    "print(type(comida)) #compruebo el tipo"
   ]
  },
  {
   "cell_type": "markdown",
   "metadata": {},
   "source": [
    "**3) Realizar un programa que pida al usuario 3 números que pueden ser flotantes (no es necesario realizar bucles aún, podemos repetir el código), estos números se deberán introducir en una lista. Cuando se haya finalizado la introducción de los datos, se mostrará el sumatorio de toda la lista. Guardar el sumatorio en una variable que se llame \"sumatorio\"**\n",
    "\n",
    "*Ayuda: Existe una función llamada sum(lista) ¡Pruébalo!*"
   ]
  },
  {
   "cell_type": "code",
   "execution_count": 3,
   "metadata": {},
   "outputs": [
    {
     "name": "stdout",
     "output_type": "stream",
     "text": [
      "introduzca un numero:666\n",
      "introduzca otro numero:678\n",
      "introduzca otro numero:789\n",
      "[666.0, 678.0, 789.0]\n",
      "2133.0\n"
     ]
    }
   ],
   "source": [
    "numero_uno = float(input('introduzca un numero:')) #pedimos un numero al usuario\n",
    "numero_dos = float(input('introduzca otro numero:')) #pedimos otro numero al usuario\n",
    "numero_tres = float(input('introduzca otro numero:')) #pedimos otro numero al usuario\n",
    "lista_num = [numero_uno,numero_dos,numero_tres] #creo la lista\n",
    "sumatorio = sum(lista_num) #sumo sus elementos\n",
    "print(lista_num) #muestro la lista en pantalla\n",
    "print(sumatorio) #muestro el sumatorio en pantalla"
   ]
  },
  {
   "cell_type": "markdown",
   "metadata": {},
   "source": [
    "**4) Sobre el ejercicio anterior, queremos mostrar la media aritmética de los elementos de esa lista. Indicar la instrucción necesaria para obtenerla.**\n",
    "\n",
    "*En este caso sabemos que el número de elementos que ha introducido el usuario es 3, pero en otra ocasión podría ser diferente, por lo tanto, no hagáis referencia al número 3 en ningún sitio*"
   ]
  },
  {
   "cell_type": "code",
   "execution_count": 4,
   "metadata": {},
   "outputs": [
    {
     "name": "stdout",
     "output_type": "stream",
     "text": [
      "711.0\n"
     ]
    }
   ],
   "source": [
    "media = sum(lista_num)/len(lista_num) #para calcular la media uso la funcion len que me dice cuantos elementos tiene la lista \n",
    "print (media) #muestro la media en pantalla"
   ]
  },
  {
   "cell_type": "markdown",
   "metadata": {},
   "source": [
    "**5) Dada la siguiente matriz de notas (una matriz es una lista de listas anidadas) se observa que cada fila es un listado de notas de un alumno, donde en la última posición de cada lista se encuentra el sumatorio de todas las notas anteriores de esa lista. Pero apreciamos que hay varios errores en los sumatorios de varios alumnos, utilizar la técnica de slicing para acceder a estas posiciones y modificar los valores erroneos de la forma más automatizada posible.**\n",
    "\n",
    "* No vale poner directamente los valores:\n",
    "```python\n",
    "notas[1][3] = 60\n",
    "notas[3][3] = 120\n",
    "```\n",
    "* Hay que buscar una forma automatizada de acceder y modificar esos valores"
   ]
  },
  {
   "cell_type": "code",
   "execution_count": 6,
   "metadata": {},
   "outputs": [
    {
     "name": "stdout",
     "output_type": "stream",
     "text": [
      "[10, 10, 10, 30]\n",
      "[20, 20, 20, 60]\n",
      "[30, 30, 30, 90]\n",
      "[40, 40, 40, 120]\n"
     ]
    }
   ],
   "source": [
    "notas = [ \n",
    "    [10, 10, 10, 30],\n",
    "    [20, 20, 20, 70],\n",
    "    [30, 30, 30, 90],\n",
    "    [40, 40, 40, 130]\n",
    "]\n",
    "\"\"\"decostruyo la matriz para poder trabajar mas agusto\"\"\" \n",
    "alumno_uno = notas[0]\n",
    "alumno_dos = notas[1]\n",
    "alumno_tres = notas[2]\n",
    "alumno_cuatro = notas[3]\n",
    "\n",
    "\"\"\"sumo las notas para poder saber los totales\"\"\"\n",
    "total_uno = sum(alumno_uno[0:-1]) \n",
    "total_dos = sum(alumno_dos[0:-1]) \n",
    "total_tres = sum(alumno_tres[0:-1])\n",
    "total_cuatro = sum(alumno_cuatro[0:-1]) \n",
    "\n",
    "\"\"\"sutituyo los totales de las notas en las listas que he creado\"\"\"\n",
    "alumno_uno[-1] =total_uno\n",
    "alumno_dos[-1] =total_dos\n",
    "alumno_tres[-1] =total_tres\n",
    "alumno_cuatro[-1] =total_cuatro\n",
    "\n",
    "\"\"\"muestro en pantalla la solucion\"\"\"\n",
    "print (notas[0])\n",
    "print (notas[1])\n",
    "print (notas[2])\n",
    "print (notas[3])\n",
    "\n"
   ]
  },
  {
   "cell_type": "markdown",
   "metadata": {},
   "source": [
    "**6) Supongamos que obtenemos una cadena de texto corrupta, esta al revés. Esta cadena contiene el nombre y el año de nacimiento de una persona. Formatear dicha cadena para obtener el siguiente formato:**\n",
    "\n",
    "* Empleado ***Nombre*** ***Apellido*** nacido en el año ***Año***\n",
    "\n",
    "*Pista: Para invertir el orden una cadena usando técnicas de slicing se puede utilizar un tercer índice -1: cadena[::-1]*\n"
   ]
  },
  {
   "cell_type": "code",
   "execution_count": 7,
   "metadata": {},
   "outputs": [
    {
     "name": "stdout",
     "output_type": "stream",
     "text": [
      "1985,Carlos Perez\n",
      "<class 'str'>\n",
      "['Empleado:', 'Carlos Perez', 'Año de nacimiento:', '1985,']\n"
     ]
    }
   ],
   "source": [
    "cadena = \"zereP solraC,5891\"\n",
    "inversa = cadena[::-1]\n",
    "print(inversa ) #cadena invertida\n",
    "print(type(inversa))\n",
    "cadena_ordenada = ['Empleado:',inversa[5:],'Año de nacimiento:', inversa[0:5]]\n",
    "print (cadena_ordenada)"
   ]
  },
  {
   "cell_type": "markdown",
   "metadata": {},
   "source": [
    "**7) Practiquemos con conjuntos:**\n",
    "* Crea un conjunto llamado mamíferos que tenga los elementos Gato, León, Caballo, Ballena y Tortuga\n",
    "* Crea un conjunto llamado peces que tenga los elementos Ballena y Sardina\n",
    "* Borra la Tortuga del conjunto mamiíferos\n",
    "* Añade el Pez Payaso al conjunto peces\n",
    "* Imprime los conjuntos por pantalla\n",
    "* Imprime por pantalla los elementos que se encuentren en ambos conjuntos, es decir, que sean mamíferos y peces"
   ]
  },
  {
   "cell_type": "code",
   "execution_count": 8,
   "metadata": {},
   "outputs": [
    {
     "name": "stdout",
     "output_type": "stream",
     "text": [
      "{'Gato', 'Ballena', 'Caballo', 'León'}\n",
      "{'Sardina', 'Pez Payaso', 'Ballena'}\n",
      "{'Ballena'}\n"
     ]
    }
   ],
   "source": [
    "mamiferos = {'Gato', 'León', 'Caballo', 'Ballena', 'Tortuga'} #creo el set mamiferos\n",
    "peces = {'Ballena', 'Sardina'} #creo el set peces\n",
    "mamiferos.remove('Tortuga') #elimino la tortuga de mamiferos\n",
    "peces.add ('Pez Payaso') #añado el pez payaso a peces\n",
    "print (mamiferos) #muestro en pantalla el set nuevo\n",
    "print (peces) #muestro en pantalla el set nuevo\n",
    "print(mamiferos & peces) #muestro en pantalla los comunes a los dos set"
   ]
  },
  {
   "cell_type": "markdown",
   "metadata": {},
   "source": [
    "**8) Practiquemos con diccionarios. Tenemos un diccionario que contiene una serie de productos. Realicemos las tres siguientes tareas:**\n",
    "* Ver productos\n",
    "* Subir el precio a todos los productos\n",
    "* Volver a ver todos los precios (para comprobar que el precio ha subido)\n",
    "\n",
    "Al inicio del programa, se mostrarán todos los productos, tienen que aparecer ordenados con el siguiente formato: <br><code>1 - Arduino - 30€</code><br>\n",
    "Posteriormente, a todos los productos se aplicará una subida del 50% a todos los precios de productos.<br>\n",
    "Y finalmente volveremos a mostrar todos los productos para comprobar la subida de precios."
   ]
  },
  {
   "cell_type": "code",
   "execution_count": 9,
   "metadata": {},
   "outputs": [
    {
     "name": "stdout",
     "output_type": "stream",
     "text": [
      "-------------------\n",
      "1 Arduino 30\n",
      "2 RPi 70\n",
      "3 Print 3D 300\n",
      "-------------------\n",
      "Precios modificados:\n",
      "-------------------\n",
      "1 Arduino 45.0\n",
      "2 RPi 105.0\n",
      "3 Print 3D 450.0\n",
      "-------------------\n"
     ]
    }
   ],
   "source": [
    "productos = { 'id':[1,2,3], \n",
    "             'nombre':['Arduino', 'RPi', 'Print 3D'], \n",
    "             'precio': [30, 70, 300] \n",
    "            }\n",
    "\n",
    "\"\"\"Muestro en pantalla el diccionario  en el formato pedido\"\"\"\n",
    "\n",
    "print('-------------------')\n",
    "print (productos['id'][0],productos['nombre'][0],productos['precio'][0])\n",
    "print (productos['id'][1],productos['nombre'][1],productos['precio'][1])\n",
    "print (productos['id'][2],productos['nombre'][2],productos['precio'][2])\n",
    "print('-------------------')\n",
    "\n",
    "\"\"\"Modifico el precio de los prductos accediendo al valor dentro del diccionario en este caso es una lista de precios\"\"\"\n",
    "\n",
    "productos['precio'][0] *=1.5\n",
    "productos['precio'][1] *=1.5\n",
    "productos['precio'][2] *=1.5\n",
    "\n",
    "\"\"\"Muestro en pantalla el diccionario con los precios modificados en el formato pedido\"\"\"\n",
    "\n",
    "print('Precios modificados:')\n",
    "print('-------------------')\n",
    "print (productos['id'][0],productos['nombre'][0],productos['precio'][0])\n",
    "print (productos['id'][1],productos['nombre'][1],productos['precio'][1])\n",
    "print (productos['id'][2],productos['nombre'][2],productos['precio'][2])\n",
    "print('-------------------')"
   ]
  },
  {
   "cell_type": "code",
   "execution_count": null,
   "metadata": {},
   "outputs": [],
   "source": []
  }
 ],
 "metadata": {
  "anaconda-cloud": {},
  "kernelspec": {
   "display_name": "Python 3 (ipykernel)",
   "language": "python",
   "name": "python3"
  },
  "language_info": {
   "codemirror_mode": {
    "name": "ipython",
    "version": 3
   },
   "file_extension": ".py",
   "mimetype": "text/x-python",
   "name": "python",
   "nbconvert_exporter": "python",
   "pygments_lexer": "ipython3",
   "version": "3.9.13"
  }
 },
 "nbformat": 4,
 "nbformat_minor": 1
}
