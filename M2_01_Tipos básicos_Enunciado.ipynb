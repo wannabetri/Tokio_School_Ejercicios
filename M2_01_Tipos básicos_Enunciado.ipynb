{
 "cells": [
  {
   "cell_type": "markdown",
   "metadata": {},
   "source": [
    "# Ejercicios Modulo 2. Tipos básicos\n",
    "\n",
    "Consideraciones a tener en cuenta: \n",
    "\n",
    "* Guardar este documento con el siguiente formato para su entrega: __M2_01_nombre_apellido1_apellido2__\n",
    "* Realizar los ejercicios con las herramientas vistas en las sesiones. Aún no hemos llegado a condicionales ni bucles\n",
    "* Comentar el código\n",
    "* Utilizar nombres de variables apropiados, si vais a guardar una nota, llamar a esa variable nota, no n o x"
   ]
  },
  {
   "cell_type": "markdown",
   "metadata": {},
   "source": [
    "## Ejercicios de tipos de variables básicos"
   ]
  },
  {
   "cell_type": "markdown",
   "metadata": {},
   "source": [
    "**1) Indica un ejemplo de un tipo de dato:**\n",
    "* entero\n",
    "* flotante\n",
    "* string\n",
    "* booleano"
   ]
  },
  {
   "cell_type": "code",
   "execution_count": 2,
   "metadata": {},
   "outputs": [
    {
     "name": "stdout",
     "output_type": "stream",
     "text": [
      "<class 'int'>\n",
      "<class 'float'>\n",
      "<class 'str'>\n",
      "<class 'bool'>\n"
     ]
    }
   ],
   "source": [
    "entero = 3 #numero entero\n",
    "flotante = 3.5 #Numero con decimales\n",
    "string =  \"Esto es una cadena\" #cadena de caracteres frase o palabra\n",
    "booleano = (1 > 0) #dato booleano nos devuelve True o False\n",
    "print(type(entero)) #compruebo el tipo de dato\n",
    "print(type(flotante)) #compruebo el tipo de dato\n",
    "print(type(string)) #compruebo el tipo de dato\n",
    "print(type(booleano)) #compruebo el tipo de dato"
   ]
  },
  {
   "cell_type": "markdown",
   "metadata": {},
   "source": [
    "**2) Crea dos variables que se llamen nombre y apellido, en ellas introduce tu nombre y apellidos y luego prueba lo siguiente e indica el resultado:**\n",
    "\n",
    "```python      \n",
    "nombre + apellido\n",
    "nombre + apellido + \".\"\n",
    "nombre * 3\n",
    "``` "
   ]
  },
  {
   "cell_type": "code",
   "execution_count": 14,
   "metadata": {
    "scrolled": true
   },
   "outputs": [
    {
     "name": "stdout",
     "output_type": "stream",
     "text": [
      "Gabriel de Dompablo\n",
      "Gabriel de Dompablo.\n",
      "Gabriel Gabriel Gabriel \n"
     ]
    }
   ],
   "source": [
    "nombre = \"Gabriel\" #variable nombre de tipo str\n",
    "apellido = \"de Dompablo\" #variable apellido de tipo str\n",
    "print (nombre +\" \"+ apellido) #salida para el ejercicio añado un espacio para que quede mejor\n",
    "print (nombre +\" \"+ apellido + \".\") #salida para el ejercicio añado un espacio para que quede mejor\n",
    "print ((nombre + \" \") * 3) #salida para el ejercicio añado un espacio para que quede mejor el espacio se queda dentro del parentesis por que Python si"
   ]
  },
  {
   "cell_type": "markdown",
   "metadata": {},
   "source": [
    "**3) Retoma el ejercicio anterior, crea una variable que se llame nombreCompleto que una tu nombre y tu apellido con un espacio en el medio. Sobre esta variable, ¿eres capaz a extraer tu nombre utilizando slicing?**"
   ]
  },
  {
   "cell_type": "code",
   "execution_count": 12,
   "metadata": {},
   "outputs": [
    {
     "name": "stdout",
     "output_type": "stream",
     "text": [
      "Gabriel\n"
     ]
    }
   ],
   "source": [
    "nombreCompleto = \"Gabriel de Dompablo\"\n",
    "nombreslice = nombreCompleto[0:7]\n",
    "print(nombreslice)"
   ]
  },
  {
   "cell_type": "code",
   "execution_count": null,
   "metadata": {},
   "outputs": [],
   "source": []
  }
 ],
 "metadata": {
  "anaconda-cloud": {},
  "kernelspec": {
   "display_name": "Python 3 (ipykernel)",
   "language": "python",
   "name": "python3"
  },
  "language_info": {
   "codemirror_mode": {
    "name": "ipython",
    "version": 3
   },
   "file_extension": ".py",
   "mimetype": "text/x-python",
   "name": "python",
   "nbconvert_exporter": "python",
   "pygments_lexer": "ipython3",
   "version": "3.9.13"
  }
 },
 "nbformat": 4,
 "nbformat_minor": 1
}
