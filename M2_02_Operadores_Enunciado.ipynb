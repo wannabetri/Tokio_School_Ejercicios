{
 "cells": [
  {
   "cell_type": "markdown",
   "metadata": {},
   "source": [
    "# Ejercicios Modulo 2. Operadores\n",
    "\n",
    "Consideraciones a tener en cuenta: \n",
    "\n",
    "* Guardar este documento con el siguiente formato para su entrega: __M2_02_nombre_apellido1_apellido2__\n",
    "* Realizar los ejercicios con las herramientas vistas en las sesiones. Aún no hemos llegado a condicionales ni bucles\n",
    "* Comentar el código\n",
    "* Utilizar nombres de variables apropiados, si vais a guardar una nota, llamar a esa variable nota, no n o x"
   ]
  },
  {
   "cell_type": "markdown",
   "metadata": {},
   "source": [
    "## Ejercicios de operadores y expresiones"
   ]
  },
  {
   "cell_type": "markdown",
   "metadata": {},
   "source": [
    "**1) Crear 5 variables con 5 notas numéricas y realizar la media aritmética. Mostrar el resultado final con un mensaje como este: \"La nota media es 6.0\"**"
   ]
  },
  {
   "cell_type": "code",
   "execution_count": 8,
   "metadata": {},
   "outputs": [
    {
     "name": "stdout",
     "output_type": "stream",
     "text": [
      "La nota media es: 4.2\n"
     ]
    }
   ],
   "source": [
    "#Creo y asigno los valores a las distintas variables\n",
    "nota_1 = 5\n",
    "nota_2 = 9\n",
    "nota_3 = 2\n",
    "nota_4 = 4\n",
    "nota_5 = 1\n",
    "#Creo la variable media y la defino\n",
    "media = ((nota_1 + nota_2 + nota_3 + nota_4 + nota_5)/5)\n",
    "#imprimo para ver el resultado\n",
    "print (f'La nota media es:{media}')"
   ]
  },
  {
   "cell_type": "markdown",
   "metadata": {},
   "source": [
    "**2) Busca en la documentación la forma correcta de redondear el siguiente resultado a tan solo 2 decimales: operacion = (365 / 12) * 14.7**"
   ]
  },
  {
   "cell_type": "code",
   "execution_count": 29,
   "metadata": {},
   "outputs": [
    {
     "name": "stdout",
     "output_type": "stream",
     "text": [
      "447.12\n",
      "447.125\n"
     ]
    }
   ],
   "source": [
    "#Creamos la variable operacion\n",
    "operacion = (365 / 12) * 14.7\n",
    "#Vemos cual es el resultado sin tocar\n",
    "print (operacion)\n",
    "#Damos el formato que nos pide el ejercicio\n",
    "print ('{:06.2f}'.format(operacion))"
   ]
  },
  {
   "cell_type": "markdown",
   "metadata": {},
   "source": [
    "**3) Crea dos variables que almacenen 2 strings (username y password). Realizar las siguientes comprobaciones utilizando operadores lógicos:**\n",
    "* Que la longitud de username sea mayor o igual que tres y menor que diez\n",
    "* Que la password sea igual a \"Tokio\" o que sea igual a \"Python\".\n",
    "<br>La salida por pantalla tiene que ser:\n",
    "    * **Username: True o False** (según se haya evaluado)\n",
    "    * **Password: True o False** (según se haya evaluado)"
   ]
  },
  {
   "cell_type": "code",
   "execution_count": 20,
   "metadata": {},
   "outputs": [
    {
     "name": "stdout",
     "output_type": "stream",
     "text": [
      "Ingresa el nombre de usuario: gabriel\n",
      "Ingresa la contraseña: Tokyo\n",
      "Username: True\n",
      "Pasword: True\n"
     ]
    }
   ],
   "source": [
    "# Ingresa el username y la password\n",
    "username = input(\"Ingresa el nombre de usuario: \")\n",
    "password = input(\"Ingresa la contraseña: \")\n",
    "# Comprobamos que la variable username cumple los requisitos\n",
    "if len(username) >=3 and len(username) < 10:\n",
    "    print ('Username: True')\n",
    "else:\n",
    "    print ('username: False')\n",
    "# Comprobamos que la variable pasword cumple los requisitos   \n",
    "if password == 'Tokyo' or password == 'Python':\n",
    "    print ('Pasword: True')\n",
    "else:\n",
    "    print ('Pasword: False')"
   ]
  },
  {
   "cell_type": "markdown",
   "metadata": {},
   "source": [
    "**4) Practiquemos con los operadores de asignación (=, +=, *=, etc.):**\n",
    "* Crea dos variables y asignales los números que quieras\n",
    "* Incrementale a num1 su valor en 1\n",
    "* Decrementale a num2 su valor en 2\n",
    "* Multiplica num1 por 3 y actualiza su valor\n",
    "* Dividide num2 por 2 y actualiza su valor\n",
    "* Muestra los resultados"
   ]
  },
  {
   "cell_type": "code",
   "execution_count": 25,
   "metadata": {},
   "outputs": [
    {
     "name": "stdout",
     "output_type": "stream",
     "text": [
      "El resultado de num1 es: 18\n",
      "El resultado de num2 es: 0.5\n"
     ]
    }
   ],
   "source": [
    "#Creo y asigno los valores a las distintas variables\n",
    "num1 = 5\n",
    "num2 = 3\n",
    "#Hago las distintas operaciones, siendo los resultados heredados en las sitintas operaciones\n",
    "num1 = num1 + 1\n",
    "num2 = num2 - 2\n",
    "num1 = num1 * 3\n",
    "num2 = num2 / 2\n",
    "#Muestro los resultados\n",
    "print (f'El resultado de num1 es: {num1}')\n",
    "print (f'El resultado de num2 es: {num2}')"
   ]
  }
 ],
 "metadata": {
  "anaconda-cloud": {},
  "kernelspec": {
   "display_name": "Python 3 (ipykernel)",
   "language": "python",
   "name": "python3"
  },
  "language_info": {
   "codemirror_mode": {
    "name": "ipython",
    "version": 3
   },
   "file_extension": ".py",
   "mimetype": "text/x-python",
   "name": "python",
   "nbconvert_exporter": "python",
   "pygments_lexer": "ipython3",
   "version": "3.9.13"
  }
 },
 "nbformat": 4,
 "nbformat_minor": 1
}
